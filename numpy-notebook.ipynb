{
 "cells": [
  {
   "cell_type": "code",
   "execution_count": null,
   "metadata": {},
   "outputs": [],
   "source": [
    "# IMPORTANT note: axis=0 applies function to each column, axis=1 applies function to each row"
   ]
  },
  {
   "cell_type": "code",
   "execution_count": null,
   "metadata": {},
   "outputs": [],
   "source": [
    "import numpy\n",
    "\n",
    "# cast a list of numbers to numpy array of float type \n",
    "# and print reversed array\n",
    "arr = [1, 2, 3, 4, -8, -10]\n",
    "reversed_float_arr = numpy.flip(numpy.array(arr, float))\n",
    "reversed_float_arr"
   ]
  },
  {
   "cell_type": "code",
   "execution_count": null,
   "metadata": {},
   "outputs": [],
   "source": [
    "# reshape array as per specified dimensions (dim)\n",
    "dim = (3, 3)\n",
    "arr_reshaped = numpy.array(arr, int).reshape(dim)\n",
    "arr_reshaped"
   ]
  },
  {
   "cell_type": "code",
   "execution_count": null,
   "metadata": {},
   "outputs": [],
   "source": [
    "# form array with n rows, m cols. take inputs\n",
    "# print transposed and flattened array\n",
    "\n",
    "n, m = map(int, input().split())\n",
    "arr = numpy.ndarray((n, m), int)\n",
    "for i in range(n):\n",
    "    arr[i] = numpy.array(input().split(), dtype=int)\n",
    "arr_T = numpy.transpose(arr)\n",
    "arr_flattened = arr.flatten()\n",
    "arr_T\n",
    "arr_flattened"
   ]
  },
  {
   "cell_type": "code",
   "execution_count": null,
   "metadata": {},
   "outputs": [],
   "source": [
    "# given 2 arrays of dimensions (n x p) and (m x p)\n",
    "# concatenate arrays along axis 0\n",
    "\n",
    "n, m, p = map(int, input().split())\n",
    "arr1 = numpy.ndarray((n, p), int)\n",
    "arr2 = numpy.ndarray((m, p), int)\n",
    "\n",
    "for i in range(n):\n",
    "    arr1[i] = numpy.array(input().split(), int)\n",
    "    \n",
    "for i in range(m):\n",
    "    arr2[i] = numpy.array(input().split(), int)\n",
    "    \n",
    "arr_concatenated = numpy.concatenate((arr1, arr2), axis=0)\n",
    "arr_concatenated"
   ]
  },
  {
   "cell_type": "code",
   "execution_count": null,
   "metadata": {},
   "outputs": [],
   "source": [
    "# given unspecified number of dimensions\n",
    "# construct zeros and ones array with specified dimensions\n",
    "\n",
    "dims = tuple(map(int, input().split()))\n",
    "\n",
    "arr_zeros = numpy.zeros(dims, int)\n",
    "arr_ones = numpy.ones(dims, int)\n",
    "arr_zeros\n",
    "arr_ones"
   ]
  },
  {
   "cell_type": "code",
   "execution_count": null,
   "metadata": {},
   "outputs": [],
   "source": [
    "# given n rows and m cols\n",
    "# form 2D array with main diagonal elements = 1 \n",
    "# and all other elements = 0\n",
    "\n",
    "n, m = map(int, input().split())\n",
    "\n",
    "if n == m:\n",
    "    arr_identity = numpy.identity(n)\n",
    "    arr_identity\n",
    "    assert arr_identity.all() == numpy.eye(n).all()\n",
    "else:\n",
    "    arr_eye = numpy.eye(n, m, k=0)\n",
    "    arr_eye"
   ]
  },
  {
   "cell_type": "code",
   "execution_count": null,
   "metadata": {},
   "outputs": [],
   "source": [
    "# given 2 arrays of dimensions (n x m) \n",
    "# perform addition, subtraction, multiplication, \n",
    "# integer division, modulus and power\n",
    "\n",
    "n, m = map(int, input().split())\n",
    "arr1 = numpy.ndarray((n, m), int)\n",
    "arr2 = numpy.ndarray((n, m), int)\n",
    "\n",
    "for i in range(n):\n",
    "    arr1[i] = numpy.array(input().split(), int)\n",
    "    \n",
    "for i in range(n):\n",
    "    arr2[i] = numpy.array(input().split(), int)\n",
    "\n",
    "arr_add = arr1 + arr2\n",
    "arr_sub = arr1 - arr2\n",
    "arr_mul = arr1 * arr2\n",
    "arr_floor_div = arr1 // arr2\n",
    "arr_mod = arr1 % arr2\n",
    "arr_pow = arr1 ** arr2\n",
    "arr_add\n",
    "arr_sub\n",
    "arr_mul\n",
    "arr_floor_div\n",
    "arr_mod\n",
    "arr_pow"
   ]
  },
  {
   "cell_type": "code",
   "execution_count": null,
   "metadata": {},
   "outputs": [],
   "source": [
    "# given an array of floats\n",
    "# perform elementwise floor, ceil and rounding\n",
    "\n",
    "arr = numpy.array(input().split(), float)\n",
    "\n",
    "arr_floor = numpy.floor(arr)\n",
    "arr_ceil = numpy.ceil(arr)\n",
    "arr_rint = numpy.rint(arr)\n",
    "\n",
    "arr_floor\n",
    "arr_ceil\n",
    "arr_rint"
   ]
  },
  {
   "cell_type": "code",
   "execution_count": null,
   "metadata": {},
   "outputs": [],
   "source": [
    "# find elementwise sum of given array of given dimensions along 0th axis\n",
    "# find elementwise product of sum array\n",
    "\n",
    "n, m = map(int, input().split())\n",
    "arr = numpy.ndarray((n, m), int)\n",
    "\n",
    "for i in range(n):\n",
    "    arr[i] = numpy.array(input().split(), int)\n",
    "    \n",
    "arr_sum = numpy.sum(arr, axis=0, dtype=int)\n",
    "arr_prod = numpy.prod(arr_sum, axis=0,dtype=int)\n",
    "\n",
    "arr_sum\n",
    "arr_prod"
   ]
  },
  {
   "cell_type": "code",
   "execution_count": null,
   "metadata": {},
   "outputs": [],
   "source": [
    "# find min of given array of given dimension along axis 1 \n",
    "# and compute max of this array\n",
    "\n",
    "n, m = map(int, input().split())\n",
    "arr = numpy.ndarray((n, m), int)\n",
    "for i in range(n):\n",
    "    arr[i] = numpy.array(input().split(), int)\n",
    "\n",
    "arr_min = numpy.min(arr, axis=1)\n",
    "arr_max = numpy.max(arr_min)\n",
    "\n",
    "arr_max"
   ]
  },
  {
   "cell_type": "code",
   "execution_count": null,
   "metadata": {},
   "outputs": [],
   "source": [
    "# given array of given dims\n",
    "# find mean along axis 1, var along axis 0 and std along axis None\n",
    "\n",
    "n, m = map(int, input().split())\n",
    "arr = numpy.ndarray((n, m), int)\n",
    "for i in range(n):\n",
    "    arr[i] = numpy.array(input().split(), int)\n",
    "\n",
    "arr_mean = numpy.mean(arr, axis=1)\n",
    "arr_var = numpy.var(arr, axis=0)\n",
    "arr_std = numpy.std(arr, axis=None)\n",
    "\n",
    "arr_mean\n",
    "arr_var\n",
    "round(arr_std, 11)"
   ]
  },
  {
   "cell_type": "code",
   "execution_count": null,
   "metadata": {},
   "outputs": [],
   "source": [
    "# dot and cross products of given arrays\n",
    "\n",
    "import numpy\n",
    "\n",
    "n = int(input())\n",
    "arr1 = numpy.ndarray((n, n), int)\n",
    "arr2 = numpy.ndarray((n, n), int)\n",
    "for i in range(n):\n",
    "    arr1[i] = numpy.array(input().split(), int)\n",
    "for i in range(n):\n",
    "    arr2[i] = numpy.array(input().split(), int)\n",
    "    \n",
    "arr_mul = numpy.dot(arr1, arr2)\n",
    "arr_cross = numpy.cross(arr1, arr2)\n",
    "arr_mul\n",
    "arr_cross"
   ]
  },
  {
   "cell_type": "code",
   "execution_count": null,
   "metadata": {},
   "outputs": [],
   "source": [
    "# given 2 arrays find inner product and outer product\n",
    "\n",
    "arr1 = numpy.array(input().split(), int)\n",
    "arr2 = numpy.array(input().split(), int)\n",
    "\n",
    "arr_inner = numpy.inner(arr1, arr2)\n",
    "arr_outer = numpy.outer(arr1, arr2)\n",
    "\n",
    "arr_inner\n",
    "arr_outer"
   ]
  },
  {
   "cell_type": "code",
   "execution_count": null,
   "metadata": {},
   "outputs": [],
   "source": [
    "# given polynomial coeffs and a point, find value at that point\n",
    "# functions - poly, roots, polyint, polyder, polyval, polyfit\n",
    "\n",
    "coeffs = list(map(float, input().split()))\n",
    "x = float(input())\n",
    "\n",
    "pval = numpy.polyval(coeffs, x)\n",
    "pval"
   ]
  },
  {
   "cell_type": "code",
   "execution_count": null,
   "metadata": {},
   "outputs": [],
   "source": [
    "# given array find determinant\n",
    "# submodule linalg\n",
    "# functions - det, eig, inv\n",
    "\n",
    "n = int(input())\n",
    "arr = numpy.ndarray((n, n), float)\n",
    "for i in range(n):\n",
    "    arr[i] = numpy.array(input().split(), float)\n",
    "    \n",
    "arr_det = numpy.linalg.det(arr)\n",
    "round(arr_det, 2)"
   ]
  }
 ],
 "metadata": {
  "kernelspec": {
   "display_name": "Python 3",
   "language": "python",
   "name": "python3"
  },
  "language_info": {
   "codemirror_mode": {
    "name": "ipython",
    "version": 3
   },
   "file_extension": ".py",
   "mimetype": "text/x-python",
   "name": "python",
   "nbconvert_exporter": "python",
   "pygments_lexer": "ipython3",
   "version": "3.9.2"
  },
  "orig_nbformat": 4,
  "vscode": {
   "interpreter": {
    "hash": "31f2aee4e71d21fbe5cf8b01ff0e069b9275f58929596ceb00d14d90e3e16cd6"
   }
  }
 },
 "nbformat": 4,
 "nbformat_minor": 2
}
