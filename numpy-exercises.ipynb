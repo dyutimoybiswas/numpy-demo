{
 "cells": [
  {
   "cell_type": "code",
   "execution_count": null,
   "metadata": {},
   "outputs": [],
   "source": [
    "# IMPORTANT note: axis=0 applies function to each column, axis=1 applies function to each row"
   ]
  },
  {
   "cell_type": "code",
   "execution_count": 2,
   "metadata": {},
   "outputs": [],
   "source": [
    "# https://www.machinelearningplus.com/python/101-numpy-exercises-python/\n",
    "import numpy as np"
   ]
  },
  {
   "cell_type": "code",
   "execution_count": 2,
   "metadata": {},
   "outputs": [
    {
     "data": {
      "text/plain": [
       "'1.24.2'"
      ]
     },
     "execution_count": 2,
     "metadata": {},
     "output_type": "execute_result"
    }
   ],
   "source": [
    "# see version\n",
    "np.__version__"
   ]
  },
  {
   "cell_type": "code",
   "execution_count": 3,
   "metadata": {},
   "outputs": [
    {
     "data": {
      "text/plain": [
       "array([0, 1, 2, 3, 4, 5, 6, 7, 8, 9])"
      ]
     },
     "execution_count": 3,
     "metadata": {},
     "output_type": "execute_result"
    }
   ],
   "source": [
    "# create 1D array of numbers 0 to 9\n",
    "arr = np.arange(10)\n",
    "arr"
   ]
  },
  {
   "cell_type": "code",
   "execution_count": 4,
   "metadata": {},
   "outputs": [
    {
     "data": {
      "text/plain": [
       "array([[ True,  True,  True],\n",
       "       [ True,  True,  True],\n",
       "       [ True,  True,  True]])"
      ]
     },
     "execution_count": 4,
     "metadata": {},
     "output_type": "execute_result"
    }
   ],
   "source": [
    "# create array filled with specified values, shape and data type\n",
    "barr = np.full(shape=(3, 3), fill_value=True, dtype=bool)\n",
    "barr"
   ]
  },
  {
   "cell_type": "code",
   "execution_count": 5,
   "metadata": {},
   "outputs": [
    {
     "data": {
      "text/plain": [
       "array([1, 3, 5, 7, 9])"
      ]
     },
     "execution_count": 5,
     "metadata": {},
     "output_type": "execute_result"
    }
   ],
   "source": [
    "# extract elements satisfying given condition\n",
    "arr = np.array([0, 1, 2, 3, 4, 5, 6, 7, 8, 9])  # input\n",
    "odd_arr = np.where(arr % 2)\n",
    "odd_arr\n",
    "odd_arr = arr[arr % 2 == 1]\n",
    "odd_arr"
   ]
  },
  {
   "cell_type": "code",
   "execution_count": 6,
   "metadata": {},
   "outputs": [
    {
     "data": {
      "text/plain": [
       "array([ 0, -1,  2, -1,  4, -1,  6, -1,  8, -1])"
      ]
     },
     "execution_count": 6,
     "metadata": {},
     "output_type": "execute_result"
    }
   ],
   "source": [
    "# replace odd elements with -1\n",
    "new_arr = np.where(arr % 2 == 1, -1, arr)\n",
    "new_arr"
   ]
  },
  {
   "cell_type": "code",
   "execution_count": 7,
   "metadata": {},
   "outputs": [
    {
     "data": {
      "text/plain": [
       "array([[0, 1, 2, 3, 4],\n",
       "       [5, 6, 7, 8, 9]])"
      ]
     },
     "execution_count": 7,
     "metadata": {},
     "output_type": "execute_result"
    }
   ],
   "source": [
    "# reshape array\n",
    "arr = np.arange(10) # input\n",
    "new_arr = arr.reshape(2,5)\n",
    "new_arr"
   ]
  },
  {
   "cell_type": "code",
   "execution_count": 8,
   "metadata": {},
   "outputs": [
    {
     "data": {
      "text/plain": [
       "array([[0, 1, 2, 3, 4, 1, 1, 1, 1, 1],\n",
       "       [5, 6, 7, 8, 9, 1, 1, 1, 1, 1]])"
      ]
     },
     "execution_count": 8,
     "metadata": {},
     "output_type": "execute_result"
    }
   ],
   "source": [
    "# stack arrays vertically and horizontally\n",
    "a = np.arange(10).reshape(2,-1)     # input\n",
    "b = np.repeat(1, 10).reshape(2,-1)  # input\n",
    "v_arr = np.concatenate((a, b), axis=0)\n",
    "h_arr = np.concatenate((a, b), axis=1)\n",
    "# v_arr\n",
    "h_arr"
   ]
  },
  {
   "cell_type": "code",
   "execution_count": 9,
   "metadata": {},
   "outputs": [
    {
     "data": {
      "text/plain": [
       "array([1, 1, 1, 2, 2, 2, 3, 3, 3, 1, 2, 3, 1, 2, 3, 1, 2, 3])"
      ]
     },
     "execution_count": 9,
     "metadata": {},
     "output_type": "execute_result"
    }
   ],
   "source": [
    "# generate custom sequences\n",
    "arr = np.array([1,2,3]) # input\n",
    "rep = np.repeat(arr, 3)\n",
    "t = np.tile(arr, 3)\n",
    "# test = np.tile(arr, (3,2))\n",
    "seq = np.concatenate((rep, t))\n",
    "seq"
   ]
  },
  {
   "cell_type": "code",
   "execution_count": 10,
   "metadata": {},
   "outputs": [
    {
     "data": {
      "text/plain": [
       "array([1, 3, 5, 6])"
      ]
     },
     "execution_count": 10,
     "metadata": {},
     "output_type": "execute_result"
    }
   ],
   "source": [
    "# set operations - https://numpy.org/doc/stable/reference/routines.set.html\n",
    "\n",
    "# get common items (intersection) between 2 arrays\n",
    "a = np.array([1,2,3,2,3,4,3,4,5,6])     # input\n",
    "b = np.array([7,2,10,2,7,4,9,4,9,8])    # input\n",
    "com = np.intersect1d(a, b)\n",
    "#com\n",
    "\n",
    "# remove elements from a that are present in b\n",
    "sub = np.setdiff1d(a, b)\n",
    "sub"
   ]
  },
  {
   "cell_type": "code",
   "execution_count": 11,
   "metadata": {},
   "outputs": [
    {
     "data": {
      "text/plain": [
       "(array([1, 3, 5, 7]),)"
      ]
     },
     "execution_count": 11,
     "metadata": {},
     "output_type": "execute_result"
    }
   ],
   "source": [
    "# find positions (indices) where elements of a and b are same\n",
    "eq = np.where(a == b)\n",
    "eq"
   ]
  },
  {
   "cell_type": "code",
   "execution_count": 12,
   "metadata": {},
   "outputs": [
    {
     "data": {
      "text/plain": [
       "array([ 6,  9, 10])"
      ]
     },
     "execution_count": 12,
     "metadata": {},
     "output_type": "execute_result"
    }
   ],
   "source": [
    "# extract numbers from a given range\n",
    "a = np.array([2, 6, 1, 9, 10, 3, 27])   # input\n",
    "arr = a[(a >= 5) & (a <= 10)]\n",
    "arr = a[np.where((a >= 5) & (a <= 10))]     # where with only condition provided - https://numpy.org/doc/stable/reference/generated/numpy.where.html#numpy.where\n",
    "arr"
   ]
  },
  {
   "cell_type": "code",
   "execution_count": null,
   "metadata": {},
   "outputs": [],
   "source": [
    "# get elementwise maximum\n",
    "a = np.array([5, 7, 9, 8, 6, 4, 5])     # input\n",
    "b = np.array([6, 3, 4, 8, 9, 7, 1])     # input\n",
    "\n",
    "my_max = lambda val1, val2: max(val1, val2)\n",
    "pair_max = np.vectorize(my_max, otypes='f')         # otypes as string (float)\n",
    "pair_max = np.vectorize(my_max, otypes=[float])     # otypes as list (float)\n",
    "\n",
    "pair_max(a, b)"
   ]
  },
  {
   "cell_type": "code",
   "execution_count": 14,
   "metadata": {},
   "outputs": [
    {
     "data": {
      "text/plain": [
       "True"
      ]
     },
     "execution_count": 14,
     "metadata": {},
     "output_type": "execute_result"
    }
   ],
   "source": [
    "# to check 2 equal arrays\n",
    "a = np.full(shape=(3, 2), fill_value=4, dtype=int)\n",
    "b = np.full(shape=(3, 2), fill_value=4, dtype=int)\n",
    "\n",
    "np.all(a == b)"
   ]
  },
  {
   "cell_type": "code",
   "execution_count": 19,
   "metadata": {},
   "outputs": [
    {
     "data": {
      "text/plain": [
       "array([1, 1, 5, 2, 6, 2, 3, 3])"
      ]
     },
     "execution_count": 19,
     "metadata": {},
     "output_type": "execute_result"
    }
   ],
   "source": [
    "# insert\n",
    "a = np.array([[1, 1], [2, 2], [3, 3]])\n",
    "np.insert(a, 1, 5)\n",
    "np.insert(a, 1, 5, axis=1)\n",
    "np.insert(a, [1], [[4],[5],[6]], axis=1)\n",
    "np.insert(a.flatten(), [2, 2], [5, 6])\n",
    "np.insert(a.flatten(), slice(2, 4), [5, 6])"
   ]
  },
  {
   "cell_type": "code",
   "execution_count": 23,
   "metadata": {},
   "outputs": [
    {
     "data": {
      "text/plain": [
       "array([], dtype=float64)"
      ]
     },
     "execution_count": 23,
     "metadata": {},
     "output_type": "execute_result"
    }
   ],
   "source": [
    "a = np.array([3, 1, 2])\n",
    "a[np.argsort(a)]    # returns sorted array\n",
    "# np.argsort(a)"
   ]
  }
 ],
 "metadata": {
  "kernelspec": {
   "display_name": "Python 3",
   "language": "python",
   "name": "python3"
  },
  "language_info": {
   "codemirror_mode": {
    "name": "ipython",
    "version": 3
   },
   "file_extension": ".py",
   "mimetype": "text/x-python",
   "name": "python",
   "nbconvert_exporter": "python",
   "pygments_lexer": "ipython3",
   "version": "3.11.2"
  },
  "orig_nbformat": 4
 },
 "nbformat": 4,
 "nbformat_minor": 2
}
